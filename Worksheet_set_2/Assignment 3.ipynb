{
 "cells": [
  {
   "cell_type": "markdown",
   "id": "11da1657",
   "metadata": {},
   "source": [
    "# Write a python program to find the factorial of a number##"
   ]
  },
  {
   "cell_type": "code",
   "execution_count": 3,
   "id": "d3a59e15",
   "metadata": {},
   "outputs": [
    {
     "name": "stdout",
     "output_type": "stream",
     "text": [
      "Enter input number : 3\n",
      "The factorial of 3 is 1\n",
      "The factorial of 3 is 2\n",
      "The factorial of 3 is 6\n"
     ]
    }
   ],
   "source": [
    "n=int(input(\"Enter input number : \"))\n",
    "fact =1\n",
    "if n < 0:\n",
    "    Print(\"Factorial does not exist for negative numbers\")\n",
    "elif n == 0:\n",
    "    print(\"The factorial of 0 is 1\")\n",
    "else:\n",
    "    for i in range(1, n+1):\n",
    "        fact =fact*i\n",
    "        print(\"The factorial of\",n,\"is\",fact)"
   ]
  },
  {
   "cell_type": "markdown",
   "id": "ec70b631",
   "metadata": {},
   "source": [
    "# Write a python program to find whether a number is prime or composite.##"
   ]
  },
  {
   "cell_type": "code",
   "execution_count": 16,
   "id": "7856ac8b",
   "metadata": {},
   "outputs": [
    {
     "ename": "SyntaxError",
     "evalue": "invalid syntax (1946416954.py, line 10)",
     "output_type": "error",
     "traceback": [
      "\u001b[0;36m  Cell \u001b[0;32mIn[16], line 10\u001b[0;36m\u001b[0m\n\u001b[0;31m    else:\u001b[0m\n\u001b[0m    ^\u001b[0m\n\u001b[0;31mSyntaxError\u001b[0m\u001b[0;31m:\u001b[0m invalid syntax\n"
     ]
    }
   ],
   "source": [
    "n =11\n",
    "n =int(input(\"Enter a number : \"))\n",
    "if n >1:\n",
    "    for i in range (2,(n/2)+1):\n",
    "        if(n % i)==0:\n",
    "            Print(n, \"is not a prime number\")\n",
    "            break\n",
    "    else:\n",
    "        print(n, \"is a prime number\")\n",
    "    else:\n",
    "        print(n, \"is not a prime number\")"
   ]
  },
  {
   "cell_type": "markdown",
   "id": "87c9b79a",
   "metadata": {},
   "source": [
    "# Write a python program to check whether a given string is palindrome or not.##"
   ]
  },
  {
   "cell_type": "code",
   "execution_count": 17,
   "id": "589a00fb",
   "metadata": {},
   "outputs": [
    {
     "name": "stdout",
     "output_type": "stream",
     "text": [
      "Yes\n"
     ]
    }
   ],
   "source": [
    "def isPalindrome(s):\n",
    "    return s ==s[::-1]\n",
    "s = \"malayalam\"\n",
    "ans = isPalindrome(s)\n",
    "if ans:\n",
    "    print(\"Yes\")\n",
    "else:\n",
    "    print(\"No\")"
   ]
  },
  {
   "cell_type": "markdown",
   "id": "cc861ef7",
   "metadata": {},
   "source": [
    "# Write a Python program to get the third side of right-angled triangle from two given sides.##"
   ]
  },
  {
   "cell_type": "code",
   "execution_count": 24,
   "id": "f766b058",
   "metadata": {},
   "outputs": [
    {
     "ename": "SyntaxError",
     "evalue": "invalid syntax (3961233188.py, line 9)",
     "output_type": "error",
     "traceback": [
      "\u001b[0;36m  Cell \u001b[0;32mIn[24], line 9\u001b[0;36m\u001b[0m\n\u001b[0;31m    print(\"Hypotenuse =\", c)Enter base: 10.5\u001b[0m\n\u001b[0m                            ^\u001b[0m\n\u001b[0;31mSyntaxError\u001b[0m\u001b[0;31m:\u001b[0m invalid syntax\n"
     ]
    }
   ],
   "source": [
    "import math\n",
    "\n",
    "a = float(input(\"Enter base: \"))\n",
    "b = float(input(\"Enter height: \"))\n",
    "x = float(input(\"Enter angle: \"))\n",
    "\n",
    "c = math.sqrt(a ** 2 + b ** 2)\n",
    "\n",
    "print(\"Hypotenuse =\", c)Enter base: 10.5\n",
    "Enter height: 5.5\n",
    "Enter angle: 60\n",
    "Hypotenuse = 11.853269591129697"
   ]
  },
  {
   "cell_type": "markdown",
   "id": "914d0631",
   "metadata": {},
   "source": [
    "# Write a python program to print the frequency of each of the characters present in a given string.##"
   ]
  },
  {
   "cell_type": "code",
   "execution_count": 25,
   "id": "89bcd7b3",
   "metadata": {},
   "outputs": [
    {
     "name": "stdout",
     "output_type": "stream",
     "text": [
      "Y: 1, o: 2, l: 1, o: 2,  : 1, L: 1, i: 1, f: 1, e: 1, "
     ]
    }
   ],
   "source": [
    "string = \"Yolo Life\"\n",
    "\n",
    "for i in string:\n",
    "    frequency = string.count(i)\n",
    "    print(str(i) + \": \" + str(frequency), end=\", \")"
   ]
  },
  {
   "cell_type": "code",
   "execution_count": null,
   "id": "36a67f9a",
   "metadata": {},
   "outputs": [],
   "source": []
  }
 ],
 "metadata": {
  "kernelspec": {
   "display_name": "Python 3 (ipykernel)",
   "language": "python",
   "name": "python3"
  },
  "language_info": {
   "codemirror_mode": {
    "name": "ipython",
    "version": 3
   },
   "file_extension": ".py",
   "mimetype": "text/x-python",
   "name": "python",
   "nbconvert_exporter": "python",
   "pygments_lexer": "ipython3",
   "version": "3.11.4"
  }
 },
 "nbformat": 4,
 "nbformat_minor": 5
}
